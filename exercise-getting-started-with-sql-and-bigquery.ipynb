{
 "cells": [
  {
   "cell_type": "markdown",
   "metadata": {},
   "source": [
    "**This notebook is an exercise in the [SQL](https://www.kaggle.com/learn/intro-to-sql) course.  You can reference the tutorial at [this link](https://www.kaggle.com/dansbecker/getting-started-with-sql-and-bigquery).**\n",
    "\n",
    "---\n"
   ]
  },
  {
   "cell_type": "markdown",
   "metadata": {},
   "source": [
    "# Introduction\n",
    "\n",
    "The first test of your new data exploration skills uses data describing crime in the city of Chicago.\n",
    "\n",
    "Before you get started, run the following cell. It sets up the automated feedback system to review your answers."
   ]
  },
  {
   "cell_type": "code",
   "execution_count": null,
   "metadata": {
    "execution": {
     "iopub.execute_input": "2021-09-23T09:26:42.560075Z",
     "iopub.status.busy": "2021-09-23T09:26:42.559475Z",
     "iopub.status.idle": "2021-09-23T09:26:43.583929Z",
     "shell.execute_reply": "2021-09-23T09:26:43.583077Z",
     "shell.execute_reply.started": "2021-09-23T09:26:42.55998Z"
    }
   },
   "outputs": [],
   "source": [
    "# Set up feedack system\n",
    "from learntools.core import binder\n",
    "binder.bind(globals())\n",
    "from learntools.sql.ex1 import *\n",
    "print(\"Setup Complete\")"
   ]
  },
  {
   "cell_type": "markdown",
   "metadata": {},
   "source": [
    "Use the next code cell to fetch the dataset."
   ]
  },
  {
   "cell_type": "code",
   "execution_count": null,
   "metadata": {
    "execution": {
     "iopub.execute_input": "2021-09-23T09:54:24.30825Z",
     "iopub.status.busy": "2021-09-23T09:54:24.307721Z",
     "iopub.status.idle": "2021-09-23T09:54:24.685971Z",
     "shell.execute_reply": "2021-09-23T09:54:24.684816Z",
     "shell.execute_reply.started": "2021-09-23T09:54:24.308211Z"
    }
   },
   "outputs": [],
   "source": [
    "from google.cloud import bigquery\n",
    "import pandas as pd\n",
    "\n",
    "# Create a \"Client\" object\n",
    "client = bigquery.Client()\n",
    "\n",
    "# Construct a reference to the \"chicago_crime\" dataset\n",
    "dataset_ref = client.dataset(\"chicago_crime\", project=\"bigquery-public-data\")\n",
    "\n",
    "# API request - fetch the dataset\n",
    "dataset = client.get_dataset(dataset_ref)"
   ]
  },
  {
   "cell_type": "markdown",
   "metadata": {},
   "source": [
    "# Exercises\n",
    "\n",
    "### 1) Count tables in the dataset\n",
    "\n",
    "How many tables are in the Chicago Crime dataset?"
   ]
  },
  {
   "cell_type": "code",
   "execution_count": null,
   "metadata": {
    "execution": {
     "iopub.execute_input": "2021-09-23T09:29:28.855082Z",
     "iopub.status.busy": "2021-09-23T09:29:28.854235Z",
     "iopub.status.idle": "2021-09-23T09:29:29.128072Z",
     "shell.execute_reply": "2021-09-23T09:29:29.127144Z",
     "shell.execute_reply.started": "2021-09-23T09:29:28.855029Z"
    }
   },
   "outputs": [],
   "source": [
    "# Write the code you need here to figure out the answer\n",
    "tables = list(client.list_tables(dataset))\n",
    "print(len(tables))\n",
    "for table in tables:\n",
    "    print(table.table_id)\n"
   ]
  },
  {
   "cell_type": "code",
   "execution_count": null,
   "metadata": {
    "execution": {
     "iopub.execute_input": "2021-09-23T09:30:01.616533Z",
     "iopub.status.busy": "2021-09-23T09:30:01.616245Z",
     "iopub.status.idle": "2021-09-23T09:30:01.623871Z",
     "shell.execute_reply": "2021-09-23T09:30:01.623326Z",
     "shell.execute_reply.started": "2021-09-23T09:30:01.616503Z"
    }
   },
   "outputs": [],
   "source": [
    "num_tables = 1# Store the answer as num_tables and then run this cell\n",
    "\n",
    "# Check your answer\n",
    "q_1.check()"
   ]
  },
  {
   "cell_type": "markdown",
   "metadata": {},
   "source": [
    "For a hint or the solution, uncomment the appropriate line below."
   ]
  },
  {
   "cell_type": "code",
   "execution_count": null,
   "metadata": {
    "execution": {
     "iopub.execute_input": "2021-09-23T09:26:44.331599Z",
     "iopub.status.busy": "2021-09-23T09:26:44.331311Z",
     "iopub.status.idle": "2021-09-23T09:26:44.347678Z",
     "shell.execute_reply": "2021-09-23T09:26:44.346995Z",
     "shell.execute_reply.started": "2021-09-23T09:26:44.331569Z"
    }
   },
   "outputs": [],
   "source": [
    "#q_1.hint()\n",
    "#q_1.solution()"
   ]
  },
  {
   "cell_type": "markdown",
   "metadata": {},
   "source": [
    "### 2) Explore the table schema\n",
    "\n",
    "How many columns in the `crime` table have `TIMESTAMP` data?"
   ]
  },
  {
   "cell_type": "code",
   "execution_count": null,
   "metadata": {
    "execution": {
     "iopub.execute_input": "2021-09-23T09:56:51.022454Z",
     "iopub.status.busy": "2021-09-23T09:56:51.02173Z",
     "iopub.status.idle": "2021-09-23T09:56:51.674593Z",
     "shell.execute_reply": "2021-09-23T09:56:51.673112Z",
     "shell.execute_reply.started": "2021-09-23T09:56:51.022418Z"
    }
   },
   "outputs": [],
   "source": [
    "# Write the code to figure out the answer\n",
    "table_ref = dataset_ref.table('crime')\n",
    "table = client.get_table(table_ref)\n",
    "table.schema\n",
    "client.list_rows(table, selected_fields=table.schema[:], max_results=5).to_dataframe()"
   ]
  },
  {
   "cell_type": "code",
   "execution_count": null,
   "metadata": {
    "execution": {
     "iopub.execute_input": "2021-09-23T09:55:53.299921Z",
     "iopub.status.busy": "2021-09-23T09:55:53.29902Z",
     "iopub.status.idle": "2021-09-23T09:55:53.308748Z",
     "shell.execute_reply": "2021-09-23T09:55:53.307913Z",
     "shell.execute_reply.started": "2021-09-23T09:55:53.299872Z"
    }
   },
   "outputs": [],
   "source": [
    "num_timestamp_fields = 2# Put your answer here\n",
    "\n",
    "# Check your answer\n",
    "q_2.check()"
   ]
  },
  {
   "cell_type": "markdown",
   "metadata": {},
   "source": [
    "For a hint or the solution, uncomment the appropriate line below."
   ]
  },
  {
   "cell_type": "code",
   "execution_count": null,
   "metadata": {
    "execution": {
     "iopub.execute_input": "2021-09-23T09:57:01.600862Z",
     "iopub.status.busy": "2021-09-23T09:57:01.600587Z",
     "iopub.status.idle": "2021-09-23T09:57:01.610006Z",
     "shell.execute_reply": "2021-09-23T09:57:01.608884Z",
     "shell.execute_reply.started": "2021-09-23T09:57:01.600834Z"
    }
   },
   "outputs": [],
   "source": [
    "#q_2.hint()\n",
    "#q_2.solution()"
   ]
  },
  {
   "cell_type": "markdown",
   "metadata": {},
   "source": [
    "### 3) Create a crime map\n",
    "\n",
    "If you wanted to create a map with a dot at the location of each crime, what are the names of the two fields you likely need to pull out of the `crime` table to plot the crimes on a map?"
   ]
  },
  {
   "cell_type": "code",
   "execution_count": null,
   "metadata": {
    "execution": {
     "iopub.execute_input": "2021-09-23T09:26:44.380289Z",
     "iopub.status.busy": "2021-09-23T09:26:44.379884Z",
     "iopub.status.idle": "2021-09-23T09:26:44.391137Z",
     "shell.execute_reply": "2021-09-23T09:26:44.390436Z",
     "shell.execute_reply.started": "2021-09-23T09:26:44.380252Z"
    }
   },
   "outputs": [],
   "source": [
    "# Write the code here to explore the data so you can find the answer"
   ]
  },
  {
   "cell_type": "code",
   "execution_count": null,
   "metadata": {
    "execution": {
     "iopub.execute_input": "2021-09-23T10:00:56.436576Z",
     "iopub.status.busy": "2021-09-23T10:00:56.436278Z",
     "iopub.status.idle": "2021-09-23T10:00:56.444073Z",
     "shell.execute_reply": "2021-09-23T10:00:56.443488Z",
     "shell.execute_reply.started": "2021-09-23T10:00:56.436546Z"
    }
   },
   "outputs": [],
   "source": [
    "fields_for_plotting = ['latitude', 'longitude'] # Put your answers here\n",
    "\n",
    "# Check your answer\n",
    "q_3.check()"
   ]
  },
  {
   "cell_type": "markdown",
   "metadata": {},
   "source": [
    "For a hint or the solution, uncomment the appropriate line below."
   ]
  },
  {
   "cell_type": "code",
   "execution_count": null,
   "metadata": {
    "execution": {
     "iopub.status.busy": "2021-09-23T09:26:44.473751Z",
     "iopub.status.idle": "2021-09-23T09:26:44.474064Z",
     "shell.execute_reply": "2021-09-23T09:26:44.473921Z",
     "shell.execute_reply.started": "2021-09-23T09:26:44.473898Z"
    }
   },
   "outputs": [],
   "source": [
    "#q_3.hint()\n",
    "#q_3.solution()"
   ]
  },
  {
   "cell_type": "markdown",
   "metadata": {},
   "source": [
    "Thinking about the question above, there are a few columns that appear to have geographic data. Look at a few values (with the `list_rows()` command) to see if you can determine their relationship.  Two columns will still be hard to interpret. But it should be obvious how the `location` column relates to `latitude` and `longitude`."
   ]
  },
  {
   "cell_type": "code",
   "execution_count": null,
   "metadata": {
    "execution": {
     "iopub.status.busy": "2021-09-23T09:26:44.47491Z",
     "iopub.status.idle": "2021-09-23T09:26:44.475471Z",
     "shell.execute_reply": "2021-09-23T09:26:44.47531Z",
     "shell.execute_reply.started": "2021-09-23T09:26:44.475291Z"
    }
   },
   "outputs": [],
   "source": [
    "# Scratch space for your code"
   ]
  },
  {
   "cell_type": "markdown",
   "metadata": {},
   "source": [
    "# Keep going\n",
    "\n",
    "You've looked at the schema, but you haven't yet done anything exciting with the data itself. Things get more interesting when you get to the data, so keep going to **[write your first SQL query](https://www.kaggle.com/dansbecker/select-from-where).**"
   ]
  }
 ],
 "metadata": {
  "kernelspec": {
   "display_name": "Python 3",
   "language": "python",
   "name": "python3"
  },
  "language_info": {
   "codemirror_mode": {
    "name": "ipython",
    "version": 3
   },
   "file_extension": ".py",
   "mimetype": "text/x-python",
   "name": "python",
   "nbconvert_exporter": "python",
   "pygments_lexer": "ipython3",
   "version": "3.8.8"
  }
 },
 "nbformat": 4,
 "nbformat_minor": 4
}
